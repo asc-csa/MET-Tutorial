{
 "cells": [
  {
   "cell_type": "markdown",
   "id": "cell-0",
   "metadata": {},
   "source": []
  },
  {
   "cell_type": "markdown",
   "id": "cell-1",
   "metadata": {},
   "source": [
    "### Tutoriel des Données MET Phoenix\n",
    "\n",
    "___\n",
    "**Tutoriel** : Ce tutoriel fournit une introduction à la structure et aux cas d'utilisation des données de Pression et Température ainsi que des données Lidar Atmosphérique collectées par l'Instrument MET dans le cadre du voyage de l'Atterrisseur Phoenix vers Mars en 2008.\n",
    "\n",
    "**Mission et Instrument** : [Phoenix Mars 2008 & Instrument MET](https://www.asc-csa.gc.ca/eng/astronomy/mars/phoenix/)\n",
    "\n",
    "**Objectifs de la Mission** :\n",
    "*Étudier l'habitabilité de l'environnement arctique martien*\n",
    "\n",
    "**Données** : [Données de l'Instrument MET](https://donnees-data.asc-csa.gc.ca/users/OpenData_DonneesOuvertes/pub/MET/)\n",
    "\n",
    "**Exigences du système** : Python 3.12 ou ultérieur\n",
    "\n",
    "**Niveau du tutoriel** : Intermédiaire"
   ]
  },
  {
   "cell_type": "markdown",
   "id": "cell-2",
   "metadata": {},
   "source": [
    "___\n",
    "**Licence MIT**\n",
    "\n",
    "Copyright (c) Sa Majesté le Roi du chef du Canada, représentée par l'Agence spatiale canadienne, 2025.\n",
    "\n",
    "Droit d'auteur (c) Sa Majesté le Roi du chef du Canada, représentée par l'Agence Spatiale Canadienne, 2025.\n",
    "\n",
    "Pour plus d'informations, veuillez vous référer au fichier License.txt.\n",
    "___"
   ]
  },
  {
   "cell_type": "markdown",
   "id": "cell-3",
   "metadata": {},
   "source": [
    "#### Importation des Bibliothèques Requises"
   ]
  },
  {
   "cell_type": "code",
   "execution_count": null,
   "id": "cell-4",
   "metadata": {},
   "outputs": [],
   "source": [
    "# For data extraction\n",
    "import os # for directory exploration\n",
    "import requests # for data download through http requests\n",
    "from bs4 import BeautifulSoup # for pulling data \n",
    "from itertools import product # for parsing through folders\n",
    "\n",
    "# For data analysis & visualization\n",
    "import pandas as pd # for processing\n",
    "import matplotlib.pyplot as plt # for plotting\n",
    "import seaborn as sns # for plotting "
   ]
  },
  {
   "cell_type": "markdown",
   "id": "cell-5",
   "metadata": {},
   "source": [
    "### 1. Introduction"
   ]
  },
  {
   "cell_type": "markdown",
   "id": "cell-6",
   "metadata": {},
   "source": [
    "##### Objectif du Tutoriel\n",
    "\n",
    "Bienvenue dans le tutoriel des données MET Phoenix !\n",
    "\n",
    "Dans ce tutoriel vous allez :\n",
    "- Apprendre comment télécharger les données du site de Données Ouvertes de l'ASC\n",
    "- Acquérir une compréhension du type de données qui ont été collectées\n",
    "- Explorer des exemples de visualisations et d'analyses pour les données"
   ]
  },
  {
   "cell_type": "markdown",
   "id": "cell-7",
   "metadata": {},
   "source": [
    "##### Contexte de la Mission\n",
    "\n",
    "L'Atterrisseur Phoenix a passé 5 mois dans la région arctique de Mars avec les objectifs scientifiques principaux d'explorer l'habitabilité, la géomorphologie, et le climat sur Mars. La composante canadienne de l'Atterrisseur était l'Instrument MET, qui suivait la météo à la surface et a notamment détecté la première instance de neige sur Mars."
   ]
  },
  {
   "cell_type": "markdown",
   "id": "cell-8",
   "metadata": {},
   "source": [
    "#### 2. Comprendre les Données"
   ]
  },
  {
   "cell_type": "markdown",
   "id": "cell-9",
   "metadata": {},
   "source": [
    "##### Aperçu des Types de Données\n",
    "\n",
    "L'Instrument MET avait deux composantes qui ont produit les données que nous utilisons dans ce tutoriel.\n",
    "\n",
    "Une était un instrument Lidar vertical pour sonder l'atmosphère - il a collecté des diffusions atmosphériques entre 0 et 20 km avec un canal de comptage de photons de 532 nm (meilleur pour la détection de lumière de faible niveau), et des diffusions atmosphériques dans deux canaux analogiques - 532nm et 1064nm - entre 0 et 10 km (meilleur pour la détection de lumière de haut niveau).\n",
    "\n",
    "La seconde était un mât avec trois capteurs de température à différentes hauteurs (250m, 500m, et 1000m) et un capteur de pression."
   ]
  },
  {
   "cell_type": "markdown",
   "id": "cell-10",
   "metadata": {},
   "source": [
    "##### Structure et Format des Données\n",
    "\n",
    "Avant de travailler réellement avec les données, entrons rapidement dans la structure elle-même !\n",
    "\n",
    "Il y a deux \"types\" différents de données disponibles ici, divisés par les deux parties différentes de l'instrument MET. Le premier est Lidar, connu sous le nom de *\"l\", \"ld\", \"LS\"* dans le répertoire de dossiers des données. Le second est Pression / Température, connu sous le nom de *\"pt\", \"mt\", ou \"PS\"* dans le répertoire de dossiers des données.\n",
    "\n",
    "Dans Lidar et Pression/Température, il existe un *\"Enregistrement de Données Élémentaires\"* (EDR) et un *\"Enregistrement de Données Réduites\"* (RDR).\n",
    "\n",
    "L'EDR est essentiellement les données brutes, c'est exactement comme l'Instrument MET a communiqué avec l'ordinateur de l'Atterrisseur Phoenix, converti en ASCII et avec l'horodatage de l'atterrisseur. Ces données sont moins intuitives à travailler, et ne seraient généralement pas recommandées à moins que vous en sachiez plus sur la mission.\n",
    "\n",
    "Le RDR est une version traitée des données originales, avec la durée de chaque mesure convertie de Compte de Trame en Secondes Terrestres et d'autres changements d'unité pour rendre les données plus faciles à travailler et plus compréhensibles.\n",
    "\n",
    "Ce tutoriel se concentrera principalement sur le RDR.\n",
    "\n",
    "Dans les deux Enregistrements de Données, il y a quelques catégories de plus avant d'arriver aux données elles-mêmes.\n",
    "\n",
    "Voici un résumé :\n",
    "\n",
    "***Ensembles de Données Lidar***\n",
    "\n",
    "Dans l'Enregistrement de Données Élémentaires :\n",
    "- Comptage de Photons (ELP)\n",
    "- Comptage Analogique (ELA)\n",
    "- Données Supplémentaires (ELS)\n",
    "\n",
    "Dans l'Enregistrement de Données Réduites :\n",
    "- Comptage de Photons (RLP)\n",
    "- Comptage Analogique (RLA)\n",
    "- Données Supplémentaires (RLS)\n",
    "\n",
    "***Ensembles de Données Pression et Température***\n",
    "\n",
    "Dans l'Enregistrement de Données Élémentaires :\n",
    "- Basse Résolution (EML)\n",
    "- Haute Résolution (EMH)\n",
    "\n",
    "Dans l'Enregistrement de Données Réduites :\n",
    "- Basse Résolution (RML)\n",
    "- Haute Résolution (RMH)\n",
    "- Pression Corrigée (RMC)\n",
    "- Pression Auxiliaire (RMA)\n",
    "\n",
    "Dans chacun de ces ensembles de données, il y a typiquement 150 fichiers CSV, représentant la prise de données sur les 150 jours solaires. Il y a occasionnellement des jours manquants dus à des problèmes avec l'Atterrisseur."
   ]
  },
  {
   "cell_type": "markdown",
   "id": "cell-11",
   "metadata": {},
   "source": [
    "#### 3. Importation des Données"
   ]
  },
  {
   "cell_type": "markdown",
   "id": "cell-12",
   "metadata": {},
   "source": [
    "##### Utilisation de la fonction `download_met_data()`\n",
    "\n",
    "Cette fonction vous permet de télécharger plusieurs fichiers à la fois selon diverses catégories dans le répertoire. Cela inclut :\n",
    "\n",
    "- Pression et Température ou Lidar\n",
    "\n",
    "      (`types` = `'pt'`ou `'l'`, ou `['l', 'RDR']` pour les deux)\n",
    "- Jour(s) Solaire(s)\n",
    "\n",
    "     (`days` = `'001'` à `'150'`, ou une gamme de jours `str(i).zfill(3) for i in range(1,150)` )\n",
    "- Enregistrement de Données Élémentaires ou Enregistrement de Données Réduites\n",
    "\n",
    "     (`records` = `'EDR'` ou `'RDR'`, ou `['EDR', 'RDR']` pour les deux)\n",
    "\n",
    "Pour l'utiliser, vous devez d'abord définir un dossier dans lequel vous voulez télécharger les données sur votre ordinateur - ce sera là où vous accédez aux ensembles de données donc assurez-vous que c'est quelque chose que vous pouvez utiliser avec votre IDE.\n",
    "\n",
    "Ensuite, vous pouvez appeler la fonction avec vos paramètres désirés, en utilisant ce qui précède comme guide. Il y a aussi quelques exemples ci-dessous."
   ]
  },
  {
   "cell_type": "code",
   "execution_count": null,
   "id": "cell-13",
   "metadata": {},
   "outputs": [],
   "source": [
    "# set a folder you want to store all your files in\n",
    "download_folder = \"C:/Users/zaraya/Downloads/test_folder\""
   ]
  },
  {
   "cell_type": "code",
   "execution_count": null,
   "id": "cell-14",
   "metadata": {},
   "outputs": [],
   "source": [
    "# this function allows us to download the files needed based on different categories\n",
    "\n",
    "# the parameters groups, sets, and cats are required due to the directory structure. \n",
    "# the default arguments parse through all 150 days (they are split into 3 sets), and lidar & pt (groups & cats)\n",
    "def download_met_data(types, days, records, local_directory, groups = ['ld', 'mt'], sets = ['1', '2', '3'], cats = ['LS', 'MS']):\n",
    "\n",
    "    # this part allows us to select based on categories we want \n",
    "    for type, group, set, cat, day, record in product(types, groups, sets, cats, days, records):\n",
    "        # base url - where the data is hosted (csa open data page)\n",
    "        base_url = f'https://donnees-data.asc-csa.gc.ca/users/OpenData_DonneesOuvertes/pub/MET/phx-m-met-2-{type}-edr-v10/ph{group}_000{set}/DATA/{cat}{day}/{record}/'\n",
    "        response = requests.get(base_url)\n",
    "        soup = BeautifulSoup(response.text, \"html.parser\")\n",
    "\n",
    "        for link in soup.find_all(\"a\"):\n",
    "            file_name = link.get(\"href\")\n",
    "\n",
    "            # downloads only CSV files\n",
    "            if file_name.endswith(\".csv\"):\n",
    "                file_url = base_url + file_name\n",
    "                file_path = os.path.join(local_directory, file_name)\n",
    "                \n",
    "                with requests.get(file_url, stream=True) as r:\n",
    "                    r.raise_for_status()\n",
    "                    with open(file_path, \"wb\") as f:\n",
    "                        for chunk in r.iter_content(chunk_size = 8192):\n",
    "                            f.write(chunk)\n",
    "                            \n",
    "                print(f'Downloaded {file_name}')"
   ]
  },
  {
   "cell_type": "markdown",
   "id": "cell-15",
   "metadata": {},
   "source": [
    "##### Exemples de Chargement de Données\n",
    "Voici quelques exemples pour charger différents groupes d'ensembles de données.\n",
    "\n",
    "Si vous trouvez que votre code fonctionne lentement, vous pouvez changer certains des arguments par défaut dans les paramètres.\n",
    "\n",
    "`groups` et `cats` représentent tous deux la même chose que `types` (lidar - `groups = 'ld'`, `cats = 'LS'` vs pression / température `groups = 'mt'`, `cats = 'MS'`) Donc si vous téléchargez seulement un type, vous pouvez le changer en conséquence\n",
    "\n",
    "`sets` sont là parce que la structure de dossiers divise les 150 jours solaires en 3 ensembles, `sets = '1'` contenant les 30 premiers jours, ensemble `sets = '2'` étant les premiers 30 - 90, et ensemble `sets = '3'` étant les premiers 90 - 150. Si vous savez que votre gamme de dates appartient seulement à un ensemble spécifique ou une gamme d'ensembles, vous pouvez le spécifier."
   ]
  },
  {
   "cell_type": "code",
   "execution_count": null,
   "id": "cell-16",
   "metadata": {},
   "outputs": [],
   "source": [
    "# if you want to download all files \n",
    "\n",
    "download_met_data(types = ['l','pt'],\n",
    "                    days = [str(i).zfill(3) for i in range(1,150)],\n",
    "                    records = ['EDR','RDR'], local_directory = download_folder)"
   ]
  },
  {
   "cell_type": "code",
   "execution_count": null,
   "id": "cell-17",
   "metadata": {},
   "outputs": [],
   "source": [
    "# downloading only the EDR Lidar datasets for the 61st solar day\n",
    "download_met_data(types = ['l'],\n",
    "                    days = ['061'],\n",
    "                    records = ['EDR'], local_directory = download_folder)\n",
    "\n",
    "# changing the defaults to have it run faster \n",
    "download_met_data(types = ['l'],\n",
    "                    days = ['061'],\n",
    "                    records = ['EDR'],\n",
    "                      local_directory = download_folder,\n",
    "                      groups = 'ld', sets= '2', cats = 'LS')"
   ]
  },
  {
   "cell_type": "markdown",
   "id": "cell-18",
   "metadata": {},
   "source": [
    "Dans ce tutoriel, je vais utiliser seulement les données du SOL65 (Jour solaire 65) et de l'Enregistrement de Données Réduites, mais à la fois les données Lidar et Pression et Température"
   ]
  },
  {
   "cell_type": "code",
   "execution_count": null,
   "id": "cell-19",
   "metadata": {},
   "outputs": [],
   "source": [
    "download_met_data(types = ['l', 'pt'],\n",
    "                    days = ['065'],\n",
    "                    records = ['RDR'], local_directory = download_folder)"
   ]
  },
  {
   "cell_type": "markdown",
   "id": "cell-20",
   "metadata": {},
   "source": [
    "#### 4. Explorer le Lidar"
   ]
  },
  {
   "cell_type": "markdown",
   "id": "cell-21",
   "metadata": {},
   "source": [
    "L'enregistrement de données réduites contient 3 ensembles de données différents, tous avec des temps convertis en secondes terrestres, et les gammes d'altitude en mètres\n",
    "\n",
    "- RLA est Données Analogiques Lidar RDR - contient l'intensité moyenne globale de rétrodiffusion aux longueurs d'onde de 532nm et 1064nm\n",
    "\n",
    "- RLP est Données de Comptage de Photons Lidar RDR - contient le nombre total de photons à la longueur d'onde de 532 nm\n",
    "\n",
    "- RLS est Données Lidar Supplémentaires - contient des informations supplémentaires : moyenne, min et max de l'intensité de rétrodiffusion laser et analogique, et température du châssis laser.\n",
    "\n",
    "Dans ce tutoriel nous nous concentrerons sur RLA et RLP.\n",
    "\n",
    "Pour plus d'informations telles que les heures de début, noms de colonnes et unités, vous pouvez accéder aux fichiers d'étiquettes (LBL) du répertoire."
   ]
  },
  {
   "cell_type": "code",
   "execution_count": null,
   "id": "cell-22",
   "metadata": {},
   "outputs": [],
   "source": [
    "# import both RLA (analog) & RLP (photon) as data frames \n",
    "\n",
    "analog = pd.read_csv('Downloads/test_folder/LS065RLA_00901961095_1760M1.TAB.csv', header=None)\n",
    "photon = pd.read_csv('Downloads/test_folder/LS065RLP_00901961095_1760M1.TAB.csv', header=None)\n",
    "#supplementary = pd.read_csv('Downloads/test_folder/LS065RLS_00901961095_1760M1.TAB.csv', header=None) \n",
    "\n",
    "# adding column names for clarity\n",
    "analog.columns = ['time', 'range', 'backscatter_intensity_532NM', 'backscatter_intensity_1064NM']\n",
    "photon.columns = ['time', 'range', 'total_photon_counts_532NM']"
   ]
  },
  {
   "cell_type": "code",
   "execution_count": null,
   "id": "cell-23",
   "metadata": {},
   "outputs": [],
   "source": [
    "analog.describe()"
   ]
  },
  {
   "cell_type": "code",
   "execution_count": null,
   "id": "cell-24",
   "metadata": {},
   "outputs": [],
   "source": [
    "# note that the spatial range of photon counts is more sparse\n",
    "photon.describe()"
   ]
  },
  {
   "cell_type": "markdown",
   "id": "cell-25",
   "metadata": {},
   "source": [
    "##### Analyse des Profils de Rétrodiffusion Atmosphérique\n",
    "\n",
    "Voici un exemple d'un graphique exploratoire simple que nous pouvons faire en utilisant les données de comptage analogique et de photons.\n",
    "Puisqu'il nous manque quelques jours à cause d'erreurs, nous utiliserons `lineplot()` de seaborn pour extrapoler certaines de ces valeurs manquantes."
   ]
  },
  {
   "cell_type": "code",
   "execution_count": null,
   "id": "cell-26",
   "metadata": {},
   "outputs": [],
   "source": [
    "plt.figure(figsize = (5, 5))\n",
    "sns.lineplot(x = analog['backscatter_intensity_532NM'], y = analog['range'])\n",
    "plt.xlabel('Backscatter Intensity (V)')\n",
    "plt.ylabel('Height (m)')\n",
    "plt.title('Lidar analog backscatter signal by altitude at wavelength of 532NM')\n",
    "plt.show()"
   ]
  },
  {
   "cell_type": "code",
   "execution_count": null,
   "id": "cell-27",
   "metadata": {},
   "outputs": [],
   "source": [
    "# and for the 1064 nm wavelength\n",
    "plt.figure(figsize = (3, 5))\n",
    "sns.lineplot(x = analog['backscatter_intensity_1064NM'], y = analog['range'])\n",
    "plt.xlabel('Backscatter Intensity (V)')\n",
    "plt.ylabel('Height (m)')\n",
    "plt.title('Lidar analog backscatter signal by altitude at wavelength of 1064NM')\n",
    "plt.show()"
   ]
  },
  {
   "cell_type": "code",
   "execution_count": null,
   "id": "cell-28",
   "metadata": {},
   "outputs": [],
   "source": [
    "# and now for the photon counts \n",
    "\n",
    "plt.figure(figsize = (3, 5))\n",
    "sns.lineplot(x = photon['total_photon_counts_532NM'], y = photon['range']/1000)\n",
    "plt.xlabel('Photon Counts (Hz)')\n",
    "plt.ylabel('Height (km)')\n",
    "plt.title('Lidar total photon counts by altitude at wavelength of 532NM')\n",
    "plt.show()"
   ]
  },
  {
   "cell_type": "markdown",
   "id": "cell-29",
   "metadata": {},
   "source": [
    "Le Comptage Analogique est typiquement utilisé pour des gammes d'altitude plus courtes que ce qui a été enregistré, donc il peut aussi être utile de regarder l'intensité de rétrodiffusion comparée à des gammes plus courtes."
   ]
  },
  {
   "cell_type": "code",
   "execution_count": null,
   "id": "cell-30",
   "metadata": {},
   "outputs": [],
   "source": [
    "plt.figure(figsize = (3, 5))\n",
    "sns.lineplot(x = analog.query('range < 2500')['backscatter_intensity_532NM'], y = analog.query('range < 2500')['range'])\n",
    "plt.xlabel('Backscatter Intensity (V)')\n",
    "plt.ylabel('Height (m)')\n",
    "plt.title('Lidar analog backscatter signal (less than 2.5km)')\n",
    "plt.show()"
   ]
  },
  {
   "cell_type": "markdown",
   "id": "cell-31",
   "metadata": {},
   "source": [
    "##### 5. Explorer la Pression / Température"
   ]
  },
  {
   "cell_type": "markdown",
   "id": "cell-32",
   "metadata": {},
   "source": [
    "Similairement aux données Lidar, je vais travailler avec les données réduites seulement pour ce tutoriel.\n",
    "\n",
    "L'enregistrement de données réduites pour P/T contient 4 ensembles de données différents, tous avec des temps convertis en secondes terrestres, et les gammes d'altitude en mètres\n",
    "\n",
    "- RMA est Données Auxiliaires RDR - il contient des données de pression et température non corrigées et en tant que tel n'est pas le meilleur pour l'analyse, connu principalement comme données de \"maintenance\", il est gardé pour la tenue de dossiers.\n",
    "\n",
    "- RMC est Données Corrigées RDR - il contient des valeurs de pression corrigées, qui tiennent compte de la chaleur rayonnée par l'instrument lui-même\n",
    "\n",
    "- RML sont des données RDR Basse Résolution - contient la moyenne, écarts types, min et max des températures à 3 altitudes (250m, 500m, et 1000m) toutes les 512 secondes terrestres.\n",
    "\n",
    "- RMH sont des données RDR Haute Résolution - les entrées sont collectées soit par un mode de moyenne (signifiant soit un événement de température d'un changement de 15 Kelvin sur 512 secondes ou un événement de pression d'une différence de pression de 1 Pascal sur 512 secondes) ou quand les valeurs min et max de température à un moment dépassent le 'déclencheur' alias un seuil pré-établi.\n",
    "\n",
    "Dans ce tutoriel nous nous concentrerons sur le RMC.\n",
    "\n",
    "Pour plus d'informations telles que les heures de début, noms de colonnes et unités, vous pouvez accéder aux fichiers d'étiquettes (LBL) du répertoire."
   ]
  },
  {
   "cell_type": "code",
   "execution_count": null,
   "id": "cell-33",
   "metadata": {},
   "outputs": [],
   "source": [
    "corrected = pd.read_csv('Downloads/test_folder/MS065RMC_00901976517_1761M1.TAB.csv', header=None)\n",
    "highmet = pd.read_csv('Downloads/test_folder/MS065RMH_00901976517_1761M1.TAB.csv', header=None)\n",
    "lowmet = pd.read_csv('Downloads/test_folder/MS065RML_00901976517_1761M1.TAB.csv', header=None)\n",
    "\n",
    "corrected.columns = ['Time', 'Pressure', '250_Temperature', '500_Temperature', '1000_Temperature', 'Ref_Temperature']\n",
    "lowmet.columns = [\"Time\", \"Pressure_Avg\", \"Pressure_Stdev\", \"Pressure_Min\", \"Pressure_Max\",\n",
    "                   \"250_Temperature_Avg\", \"250_Temperature_Stdev\", \"250_Temperature_Min\", \"250_Temperature_Max\",\n",
    "                     \"500_Temperature_Avg\", \"500_Temperature_Stdev\", \"500_Temperature_Min\", \"500_Temperature_Max\",\n",
    "                     \"1000_Temperature_Avg\", \"1000_Temperature_Stdev\", \"1000_Temperature_Min\", \"1000_Temperature_Max\", \n",
    "                     \"Ref_Temperature_Avg\", \"Ref_Temperature_Stdev\", \"Ref_Temperature_Min\", \"Ref_Temperature_Max\",\n",
    "                     \"Trigger_Sensor\"]\n",
    "highmet.columns = [\"Time\", \"Pressure\", \"250_Temperature\", \"500_Temperature\", \"1000_Temperature\", \"Reference_Temperature\"]"
   ]
  },
  {
   "cell_type": "markdown",
   "id": "cell-34",
   "metadata": {},
   "source": [
    "##### Variations de Température à Différentes Altitudes\n",
    "\n",
    "L'Instrument MET avait un mât à trois hauteurs différentes (250mm, 500mm, et 1000mm) et mesurait la température environnante à chaque hauteur.\n",
    "Voici un exemple de visualisation pour comparer ces trois hauteurs, ainsi que la température de référence"
   ]
  },
  {
   "cell_type": "code",
   "execution_count": null,
   "id": "cell-35",
   "metadata": {},
   "outputs": [],
   "source": [
    "# let's look at  temperature variations at the different altitudes \n",
    "plt.figure(figsize = (10, 6))\n",
    "plt.plot(corrected['Time'], corrected['250_Temperature'], label='250 mm')\n",
    "plt.plot(corrected['Time'], corrected['500_Temperature'], label='500 mm')\n",
    "plt.plot(corrected['Time'], corrected['1000_Temperature'], label='1000 mm')\n",
    "plt.plot(corrected['Time'], corrected['Ref_Temperature'], label='Absolute')\n",
    "\n",
    "plt.legend()\n",
    "plt.title('Exploration of Temperature Ranges across Time')\n",
    "plt.xlabel('Time Elapsed since Start Time (s)')\n",
    "plt.ylabel('Temperature (Kelvin)')\n",
    "plt.margins(x=0)\n",
    "plt.show()"
   ]
  },
  {
   "cell_type": "markdown",
   "id": "cell-36",
   "metadata": {},
   "source": [
    "##### Relation entre la pression et la température à différentes hauteurs\n",
    "\n",
    "La pression a également été enregistrée par cet instrument, donc ci-dessous est une visualisation explorant la relation entre elle et les températures enregistrées. Voyez si vous pouvez observer une tendance générale."
   ]
  },
  {
   "cell_type": "code",
   "execution_count": null,
   "id": "cell-37",
   "metadata": {},
   "outputs": [],
   "source": [
    "# correlation between pressure & temperature \n",
    "\n",
    "pressure_over_0 = corrected.query('Pressure > 0')['Pressure']\n",
    "\n",
    "plt.figure(figsize = (10, 6))\n",
    "sns.scatterplot(x = pressure_over_0,  y = corrected['250_Temperature'], label='250 mm')\n",
    "sns.scatterplot(x = pressure_over_0, y = corrected['500_Temperature'], label='500 mm')\n",
    "sns.scatterplot(x = pressure_over_0, y = corrected['1000_Temperature'], label='1000 mm')\n",
    "sns.scatterplot(x = pressure_over_0, y = corrected['Ref_Temperature'], label='Absolute')\n",
    "\n",
    "plt.legend()\n",
    "plt.title('Pressure vs. Temperature Ranges')\n",
    "plt.xlabel('Pressure (Pa)')\n",
    "plt.ylabel('Temperature (Kelvin)')\n",
    "plt.show()"
   ]
  }
 ],
 "metadata": {
  "kernelspec": {
   "display_name": "Python 3",
   "language": "python",
   "name": "python3"
  },
  "language_info": {
   "codemirror_mode": {
    "name": "ipython",
    "version": 3
   },
   "file_extension": ".py",
   "mimetype": "text/x-python",
   "name": "python",
   "nbconvert_exporter": "python",
   "pygments_lexer": "ipython3",
   "version": "3.8.5"
  }
 },
 "nbformat": 4,
 "nbformat_minor": 4
}